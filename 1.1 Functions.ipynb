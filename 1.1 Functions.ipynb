{
 "cells": [
  {
   "cell_type": "markdown",
   "id": "eb558c20",
   "metadata": {},
   "source": [
    "# A function is a group of related statements that performs a specific task."
   ]
  },
  {
   "cell_type": "markdown",
   "id": "5fe8c09f",
   "metadata": {},
   "source": [
    "# 1 The simple function   dancing with python page 68"
   ]
  },
  {
   "cell_type": "code",
   "execution_count": 1,
   "id": "9ddb1a0b",
   "metadata": {},
   "outputs": [
    {
     "data": {
      "text/plain": [
       "2"
      ]
     },
     "execution_count": 1,
     "metadata": {},
     "output_type": "execute_result"
    }
   ],
   "source": [
    "# A function definition begins with def followed by the function name\n",
    "\n",
    "# This Python code is the definition of an identity function:\n",
    "\n",
    "def f(x):            #A function definition begins with def followed by the function name\n",
    "    return x         # This is the defintion of f(x) = x\n",
    "\n",
    "f(2)"
   ]
  },
  {
   "cell_type": "code",
   "execution_count": 2,
   "id": "109405b2",
   "metadata": {},
   "outputs": [
    {
     "name": "stdout",
     "output_type": "stream",
     "text": [
      "8\n"
     ]
    }
   ],
   "source": [
    "def square(n,m):\n",
    "    ''' Takes in a number n, returns the sqare of n'''\n",
    "    return n**m\n",
    "\n",
    "print(square(2,3))"
   ]
  },
  {
   "cell_type": "code",
   "execution_count": 3,
   "id": "c324cb9b",
   "metadata": {},
   "outputs": [
    {
     "name": "stdout",
     "output_type": "stream",
     "text": [
      "4\n"
     ]
    }
   ],
   "source": [
    "def square(n):\n",
    "    ''' Takes in a number n, returns the sqare of n'''\n",
    "    return n**2\n",
    "#\n",
    "\n",
    "print(square(2))"
   ]
  },
  {
   "cell_type": "markdown",
   "id": "3583767e",
   "metadata": {},
   "source": [
    "# very importan Note"
   ]
  },
  {
   "cell_type": "code",
   "execution_count": 4,
   "id": "e7b597b5",
   "metadata": {},
   "outputs": [
    {
     "name": "stdout",
     "output_type": "stream",
     "text": [
      " This is a function is just to find the power code\n",
      "8\n"
     ]
    }
   ],
   "source": [
    "def square(n,m):\n",
    "    ''' This is a function is just to find the power code'''\n",
    "    return n**m\n",
    "\n",
    "print(square.__doc__)  # to show the comments in the function \n",
    "print(square(2,3))"
   ]
  },
  {
   "cell_type": "code",
   "execution_count": 5,
   "id": "8e8ad4bd",
   "metadata": {},
   "outputs": [
    {
     "name": "stdout",
     "output_type": "stream",
     "text": [
      " This is  the math function \n",
      "3\n"
     ]
    }
   ],
   "source": [
    "def f(x):\n",
    "    ''' This is  the math function '''\n",
    "    return x+1\n",
    "\n",
    "print(f.__doc__)  # this function f(x) = x + 1\n",
    "print(f(2))"
   ]
  },
  {
   "cell_type": "markdown",
   "id": "f220fab0",
   "metadata": {},
   "source": [
    "# Absolute Value function"
   ]
  },
  {
   "cell_type": "code",
   "execution_count": 6,
   "id": "4d691ec9",
   "metadata": {},
   "outputs": [
    {
     "name": "stdout",
     "output_type": "stream",
     "text": [
      "This function returns the absolute\n",
      "    value of the entered number\n",
      "2\n",
      "4\n"
     ]
    }
   ],
   "source": [
    "def absolute_value(num):\n",
    "    \"\"\"This function returns the absolute\n",
    "    value of the entered number\"\"\"\n",
    "\n",
    "    if num >= 0:\n",
    "        return num\n",
    "    else:\n",
    "        return -num\n",
    "\n",
    "print(absolute_value.__doc__)\n",
    "print(absolute_value(2))\n",
    "print(absolute_value(-4))"
   ]
  },
  {
   "cell_type": "code",
   "execution_count": 7,
   "id": "0d9f6e14",
   "metadata": {},
   "outputs": [
    {
     "name": "stdout",
     "output_type": "stream",
     "text": [
      "hello,omar! I hope you have a great day.\n"
     ]
    }
   ],
   "source": [
    "def say_hello_to_user(usernames,greeting):\n",
    "    print(\"hello,{}! I hope you have a great{}.\".format(usernames,greeting))\n",
    "\n",
    "    \n",
    "say_hello_to_user(\"omar\",\" day\")"
   ]
  },
  {
   "cell_type": "code",
   "execution_count": 8,
   "id": "dc0b854d",
   "metadata": {},
   "outputs": [
    {
     "name": "stdout",
     "output_type": "stream",
     "text": [
      "Hello,Omar.Good morning!\n"
     ]
    }
   ],
   "source": [
    "def greet(name):\n",
    "\n",
    "    print(\"Hello,\" + name + \".Good morning!\")    # the function is ready\n",
    "    \n",
    "\n",
    "\n",
    "greet('Omar')     # here is the function is work"
   ]
  },
  {
   "cell_type": "code",
   "execution_count": 9,
   "id": "55e0d84c",
   "metadata": {},
   "outputs": [
    {
     "name": "stdout",
     "output_type": "stream",
     "text": [
      "4\n"
     ]
    }
   ],
   "source": [
    "# To build a function to find power \n",
    "\n",
    "# this the fuction \n",
    "def square(n):\n",
    "    ''' Takes in a number n, returns the sqare of n'''\n",
    "    return n**2\n",
    "#\n",
    "\n",
    "print(square(2))"
   ]
  },
  {
   "cell_type": "code",
   "execution_count": 10,
   "id": "b35addc8",
   "metadata": {},
   "outputs": [
    {
     "name": "stdout",
     "output_type": "stream",
     "text": [
      "8\n"
     ]
    }
   ],
   "source": [
    "def square(n,m):\n",
    "    ''' Takes in a number n, returns the sqare of n'''\n",
    "    return n**m\n",
    "\n",
    "\n",
    "print(square(2,3))"
   ]
  },
  {
   "cell_type": "code",
   "execution_count": 11,
   "id": "7136f5e6",
   "metadata": {},
   "outputs": [
    {
     "name": "stdout",
     "output_type": "stream",
     "text": [
      " This is a function is just to find the power code\n",
      "8\n"
     ]
    }
   ],
   "source": [
    "########################################################################\n",
    "def square(n,m):\n",
    "    ''' This is a function is just to find the power code'''\n",
    "    return n**m\n",
    "\n",
    "print(square.__doc__)  # to show the comments in the function \n",
    "print(square(2,3))\n",
    "#######################################################################"
   ]
  },
  {
   "cell_type": "code",
   "execution_count": 12,
   "id": "5fa7913e",
   "metadata": {},
   "outputs": [
    {
     "name": "stdout",
     "output_type": "stream",
     "text": [
      " This is  the math function \n",
      "3\n"
     ]
    }
   ],
   "source": [
    "def f(x):\n",
    "    ''' This is  the math function '''\n",
    "    return x+1\n",
    "\n",
    "print(f.__doc__)  # this function f(x) = x + 1\n",
    "print(f(2))\n"
   ]
  },
  {
   "cell_type": "code",
   "execution_count": 13,
   "id": "ba8dd3b0",
   "metadata": {},
   "outputs": [],
   "source": [
    "def identity(x):\n",
    "    return x"
   ]
  },
  {
   "cell_type": "code",
   "execution_count": 14,
   "id": "174ae6c8",
   "metadata": {},
   "outputs": [
    {
     "data": {
      "text/plain": [
       "7"
      ]
     },
     "execution_count": 14,
     "metadata": {},
     "output_type": "execute_result"
    }
   ],
   "source": [
    "identity(7)"
   ]
  },
  {
   "cell_type": "code",
   "execution_count": 15,
   "id": "ca02a8e5",
   "metadata": {},
   "outputs": [
    {
     "data": {
      "text/plain": [
       "'just a string'"
      ]
     },
     "execution_count": 15,
     "metadata": {},
     "output_type": "execute_result"
    }
   ],
   "source": [
    "identity(\"just a string\")"
   ]
  },
  {
   "cell_type": "markdown",
   "id": "46762f83",
   "metadata": {},
   "source": [
    "The definition of identity defined the parameter x. A parameter is a variable assigned the\n",
    "value of an argument when a function is called. In identity(7), the parameter x is assigned\n",
    "the argument 7."
   ]
  },
  {
   "cell_type": "code",
   "execution_count": 16,
   "id": "f6a5f259",
   "metadata": {},
   "outputs": [
    {
     "data": {
      "text/plain": [
       "['one', 2, 3.0]"
      ]
     },
     "execution_count": 16,
     "metadata": {},
     "output_type": "execute_result"
    }
   ],
   "source": [
    "identity([\"one\", 2, 3.0])"
   ]
  },
  {
   "cell_type": "code",
   "execution_count": 18,
   "id": "6fc10602",
   "metadata": {},
   "outputs": [
    {
     "data": {
      "text/plain": [
       "14"
      ]
     },
     "execution_count": 18,
     "metadata": {},
     "output_type": "execute_result"
    }
   ],
   "source": [
    "def double(x):\n",
    "    return 2 * x\n",
    "double(7)"
   ]
  },
  {
   "cell_type": "code",
   "execution_count": 19,
   "id": "ed9a4fcf",
   "metadata": {},
   "outputs": [
    {
     "data": {
      "text/plain": [
       "'just a stringjust a string'"
      ]
     },
     "execution_count": 19,
     "metadata": {},
     "output_type": "execute_result"
    }
   ],
   "source": [
    "double(\"just a string\")"
   ]
  },
  {
   "cell_type": "code",
   "execution_count": 20,
   "id": "85ff97a6",
   "metadata": {},
   "outputs": [
    {
     "data": {
      "text/plain": [
       "['one', 2, 3.0, 'one', 2, 3.0]"
      ]
     },
     "execution_count": 20,
     "metadata": {},
     "output_type": "execute_result"
    }
   ],
   "source": [
    "double([\"one\", 2, 3.0])"
   ]
  }
 ],
 "metadata": {
  "kernelspec": {
   "display_name": "Python 3",
   "language": "python",
   "name": "python3"
  },
  "language_info": {
   "codemirror_mode": {
    "name": "ipython",
    "version": 3
   },
   "file_extension": ".py",
   "mimetype": "text/x-python",
   "name": "python",
   "nbconvert_exporter": "python",
   "pygments_lexer": "ipython3",
   "version": "3.8.8"
  }
 },
 "nbformat": 4,
 "nbformat_minor": 5
}
